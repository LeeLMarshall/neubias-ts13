{
 "cells": [
  {
   "cell_type": "markdown",
   "metadata": {},
   "source": [
    "<hr>\n",
    "<h1>Workflow Deployment</h1>\n",
    "<hr>\n",
    "\n",
    "### Please see the [scikit-image documentation](https://scikit-image.org/docs/stable/index.html), especially:\n",
    "- [User Guide](https://scikit-image.org/docs/stable/user_guide.html)\n",
    "- [Examples](https://scikit-image.org/docs/stable/auto_examples/)"
   ]
  },
  {
   "cell_type": "markdown",
   "metadata": {},
   "source": [
    "## Progression\n",
    "\n",
    "1. Create prototype in Jupyter notebooks or IPython shell\n",
    "2. Deploy established workflows as scripts (using [argparse](https://docs.python.org/3/library/argparse.html))\n",
    "3. (Optional) [Create your own packages](https://packaging.python.org/) (distribute via `pip`/`conda`)"
   ]
  },
  {
   "cell_type": "markdown",
   "metadata": {},
   "source": [
    "## Example Workflow Script\n",
    "\n",
    "Show help"
   ]
  },
  {
   "cell_type": "code",
   "execution_count": 1,
   "metadata": {},
   "outputs": [
    {
     "name": "stdout",
     "output_type": "stream",
     "text": [
      "usage: my_workflow.py [-h] --input-dir INPUT_DIR\n",
      "                      [--input-pattern INPUT_PATTERN]\n",
      "                      [--threshold-value THRESHOLD_VALUE]\n",
      "                      [--threshold-method {isodata,li,mean,minimum,otsu,triangle,yen}]\n",
      "                      [--output-file OUTPUT_FILE] [--dry-run]\n",
      "\n",
      "Lorem ipsum dolor sit amet, consectetur adipisicing elit, sed do eiusmod\n",
      "tempor incididunt ut labore et dolore magna aliqua. Ut enim ad minim veniam,\n",
      "quis nostrud exercitation ullamco laboris nisi ut aliquip ex ea commodo\n",
      "consequat. Duis aute irure dolor in reprehenderit in voluptate velit esse\n",
      "cillum dolore eu fugiat nulla pariatur. Excepteur sint occaecat cupidatat non\n",
      "proident, sunt in culpa qui officia deserunt mollit anim id est laborum.\n",
      "\n",
      "optional arguments:\n",
      "  -h, --help            show this help message and exit\n",
      "\n",
      "input:\n",
      "  --input-dir INPUT_DIR\n",
      "                        path to folder with input images (default: None)\n",
      "  --input-pattern INPUT_PATTERN\n",
      "                        glob-style file name pattern of input images (default:\n",
      "                        *.tif*)\n",
      "\n",
      "algorithm:\n",
      "  --threshold-value THRESHOLD_VALUE\n",
      "                        intensity threshold value (to be used instead of\n",
      "                        automatic method) (default: None)\n",
      "  --threshold-method {isodata,li,mean,minimum,otsu,triangle,yen}\n",
      "                        automatic thresholding method (default: otsu)\n",
      "\n",
      "output:\n",
      "  --output-file OUTPUT_FILE\n",
      "                        path to file where results (as CSV) will be saved\n",
      "                        (default: measurements.csv)\n",
      "  --dry-run             do a dry run, i.e. don't save results to disk\n",
      "                        (default: False)\n"
     ]
    }
   ],
   "source": [
    "%run my_workflow.py -h"
   ]
  },
  {
   "cell_type": "markdown",
   "metadata": {},
   "source": [
    "Run script (typically from the command line)"
   ]
  },
  {
   "cell_type": "code",
   "execution_count": 2,
   "metadata": {
    "scrolled": false
   },
   "outputs": [
    {
     "name": "stdout",
     "output_type": "stream",
     "text": [
      "Using 'otsu' threshold method\n"
     ]
    },
    {
     "name": "stderr",
     "output_type": "stream",
     "text": [
      "100%|██████████| 36/36 [00:00<00:00, 122.84it/s]"
     ]
    },
    {
     "name": "stdout",
     "output_type": "stream",
     "text": [
      "Overwriting 'measurements.csv'\n"
     ]
    },
    {
     "name": "stderr",
     "output_type": "stream",
     "text": [
      "\n"
     ]
    }
   ],
   "source": [
    "%run my_workflow.py \\\n",
    "--input-dir ../data/dsb2018/train/images \\\n",
    "--input-pattern *1.tif*"
   ]
  },
  {
   "cell_type": "markdown",
   "metadata": {},
   "source": [
    "Inspect results"
   ]
  },
  {
   "cell_type": "code",
   "execution_count": 3,
   "metadata": {},
   "outputs": [],
   "source": [
    "import pandas as pd\n",
    "data = pd.read_csv('measurements.csv')"
   ]
  },
  {
   "cell_type": "code",
   "execution_count": 4,
   "metadata": {},
   "outputs": [
    {
     "data": {
      "text/html": [
       "<div>\n",
       "<style scoped>\n",
       "    .dataframe tbody tr th:only-of-type {\n",
       "        vertical-align: middle;\n",
       "    }\n",
       "\n",
       "    .dataframe tbody tr th {\n",
       "        vertical-align: top;\n",
       "    }\n",
       "\n",
       "    .dataframe thead th {\n",
       "        text-align: right;\n",
       "    }\n",
       "</style>\n",
       "<table border=\"1\" class=\"dataframe\">\n",
       "  <thead>\n",
       "    <tr style=\"text-align: right;\">\n",
       "      <th></th>\n",
       "      <th>Unnamed: 0</th>\n",
       "      <th>objects found</th>\n",
       "      <th>area (mean)</th>\n",
       "      <th>area (std)</th>\n",
       "    </tr>\n",
       "  </thead>\n",
       "  <tbody>\n",
       "    <tr>\n",
       "      <td>0</td>\n",
       "      <td>003cee89357d9fe13516167fd67b609a164651b2193458...</td>\n",
       "      <td>36</td>\n",
       "      <td>124.250000</td>\n",
       "      <td>55.732184</td>\n",
       "    </tr>\n",
       "    <tr>\n",
       "      <td>1</td>\n",
       "      <td>0280fa8f60f6bcae0f97d93c28f60be194f9309ff610dc...</td>\n",
       "      <td>19</td>\n",
       "      <td>157.210526</td>\n",
       "      <td>112.910574</td>\n",
       "    </tr>\n",
       "    <tr>\n",
       "      <td>2</td>\n",
       "      <td>0ea221716cf13710214dcd331a61cea48308c3940df1d2...</td>\n",
       "      <td>243</td>\n",
       "      <td>368.164609</td>\n",
       "      <td>869.619792</td>\n",
       "    </tr>\n",
       "    <tr>\n",
       "      <td>3</td>\n",
       "      <td>2349e95ece2857c89db7e4a8be8c88af0b45f3c4262608...</td>\n",
       "      <td>8</td>\n",
       "      <td>181.500000</td>\n",
       "      <td>52.808617</td>\n",
       "    </tr>\n",
       "    <tr>\n",
       "      <td>4</td>\n",
       "      <td>237802ac5005f9cf782367156c46c383efd9e05088e576...</td>\n",
       "      <td>9</td>\n",
       "      <td>105.777778</td>\n",
       "      <td>38.789397</td>\n",
       "    </tr>\n",
       "  </tbody>\n",
       "</table>\n",
       "</div>"
      ],
      "text/plain": [
       "                                          Unnamed: 0  objects found  \\\n",
       "0  003cee89357d9fe13516167fd67b609a164651b2193458...             36   \n",
       "1  0280fa8f60f6bcae0f97d93c28f60be194f9309ff610dc...             19   \n",
       "2  0ea221716cf13710214dcd331a61cea48308c3940df1d2...            243   \n",
       "3  2349e95ece2857c89db7e4a8be8c88af0b45f3c4262608...              8   \n",
       "4  237802ac5005f9cf782367156c46c383efd9e05088e576...              9   \n",
       "\n",
       "   area (mean)  area (std)  \n",
       "0   124.250000   55.732184  \n",
       "1   157.210526  112.910574  \n",
       "2   368.164609  869.619792  \n",
       "3   181.500000   52.808617  \n",
       "4   105.777778   38.789397  "
      ]
     },
     "execution_count": 4,
     "metadata": {},
     "output_type": "execute_result"
    }
   ],
   "source": [
    "data.head()"
   ]
  },
  {
   "cell_type": "code",
   "execution_count": 5,
   "metadata": {},
   "outputs": [
    {
     "data": {
      "text/html": [
       "<div>\n",
       "<style scoped>\n",
       "    .dataframe tbody tr th:only-of-type {\n",
       "        vertical-align: middle;\n",
       "    }\n",
       "\n",
       "    .dataframe tbody tr th {\n",
       "        vertical-align: top;\n",
       "    }\n",
       "\n",
       "    .dataframe thead th {\n",
       "        text-align: right;\n",
       "    }\n",
       "</style>\n",
       "<table border=\"1\" class=\"dataframe\">\n",
       "  <thead>\n",
       "    <tr style=\"text-align: right;\">\n",
       "      <th></th>\n",
       "      <th>objects found</th>\n",
       "      <th>area (mean)</th>\n",
       "      <th>area (std)</th>\n",
       "    </tr>\n",
       "  </thead>\n",
       "  <tbody>\n",
       "    <tr>\n",
       "      <td>count</td>\n",
       "      <td>36.000000</td>\n",
       "      <td>36.000000</td>\n",
       "      <td>36.000000</td>\n",
       "    </tr>\n",
       "    <tr>\n",
       "      <td>mean</td>\n",
       "      <td>60.833333</td>\n",
       "      <td>566.634543</td>\n",
       "      <td>565.475849</td>\n",
       "    </tr>\n",
       "    <tr>\n",
       "      <td>std</td>\n",
       "      <td>100.133768</td>\n",
       "      <td>590.864469</td>\n",
       "      <td>659.583416</td>\n",
       "    </tr>\n",
       "    <tr>\n",
       "      <td>min</td>\n",
       "      <td>8.000000</td>\n",
       "      <td>62.927944</td>\n",
       "      <td>31.884606</td>\n",
       "    </tr>\n",
       "    <tr>\n",
       "      <td>25%</td>\n",
       "      <td>19.000000</td>\n",
       "      <td>146.377273</td>\n",
       "      <td>99.865393</td>\n",
       "    </tr>\n",
       "    <tr>\n",
       "      <td>50%</td>\n",
       "      <td>27.500000</td>\n",
       "      <td>230.751553</td>\n",
       "      <td>219.525307</td>\n",
       "    </tr>\n",
       "    <tr>\n",
       "      <td>75%</td>\n",
       "      <td>55.500000</td>\n",
       "      <td>856.109851</td>\n",
       "      <td>1217.564528</td>\n",
       "    </tr>\n",
       "    <tr>\n",
       "      <td>max</td>\n",
       "      <td>569.000000</td>\n",
       "      <td>1890.000000</td>\n",
       "      <td>2363.736767</td>\n",
       "    </tr>\n",
       "  </tbody>\n",
       "</table>\n",
       "</div>"
      ],
      "text/plain": [
       "       objects found  area (mean)   area (std)\n",
       "count      36.000000    36.000000    36.000000\n",
       "mean       60.833333   566.634543   565.475849\n",
       "std       100.133768   590.864469   659.583416\n",
       "min         8.000000    62.927944    31.884606\n",
       "25%        19.000000   146.377273    99.865393\n",
       "50%        27.500000   230.751553   219.525307\n",
       "75%        55.500000   856.109851  1217.564528\n",
       "max       569.000000  1890.000000  2363.736767"
      ]
     },
     "execution_count": 5,
     "metadata": {},
     "output_type": "execute_result"
    }
   ],
   "source": [
    "data.describe()"
   ]
  },
  {
   "cell_type": "code",
   "execution_count": 6,
   "metadata": {},
   "outputs": [
    {
     "data": {
      "image/png": "[encoded data removed]",
      "text/plain": [
       "<Figure size 432x288 with 1 Axes>"
      ]
     },
     "metadata": {
      "needs_background": "light"
     },
     "output_type": "display_data"
    }
   ],
   "source": [
    "data[['objects found']].plot.bar();"
   ]
  }
 ],
 "metadata": {
  "kernelspec": {
   "display_name": "Python 3",
   "language": "python",
   "name": "python3"
  },
  "language_info": {
   "codemirror_mode": {
    "name": "ipython",
    "version": 3
   },
   "file_extension": ".py",
   "mimetype": "text/x-python",
   "name": "python",
   "nbconvert_exporter": "python",
   "pygments_lexer": "ipython3",
   "version": "3.6.9"
  }
 },
 "nbformat": 4,
 "nbformat_minor": 2
}
