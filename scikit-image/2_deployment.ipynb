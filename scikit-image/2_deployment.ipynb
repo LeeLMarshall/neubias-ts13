{
 "cells": [
  {
   "cell_type": "markdown",
   "metadata": {},
   "source": [
    "<hr>\n",
    "<h1>Examples</h1>\n",
    "<hr>\n",
    "\n",
    "### Please see the [scikit-image documentation](https://scikit-image.org/docs/stable/index.html), especially:\n",
    "- [User Guide](https://scikit-image.org/docs/stable/user_guide.html)\n",
    "- [Examples](https://scikit-image.org/docs/stable/auto_examples/)"
   ]
  },
  {
   "cell_type": "code",
   "execution_count": 1,
   "metadata": {},
   "outputs": [],
   "source": [
    "import numpy as np"
   ]
  },
  {
   "cell_type": "code",
   "execution_count": 2,
   "metadata": {},
   "outputs": [],
   "source": [
    "from pathlib import Path"
   ]
  },
  {
   "cell_type": "code",
   "execution_count": 3,
   "metadata": {},
   "outputs": [],
   "source": [
    "import matplotlib.pyplot as plt\n",
    "%matplotlib inline\n",
    "%config InlineBackend.figure_format = 'retina'"
   ]
  },
  {
   "cell_type": "code",
   "execution_count": 4,
   "metadata": {},
   "outputs": [],
   "source": [
    "from skimage.io import imread, imsave"
   ]
  },
  {
   "cell_type": "code",
   "execution_count": 5,
   "metadata": {},
   "outputs": [],
   "source": [
    "from skimage.color import rgb2gray, label2rgb\n",
    "from skimage import img_as_float\n",
    "#img_as_float(leaf)"
   ]
  },
  {
   "cell_type": "code",
   "execution_count": 6,
   "metadata": {},
   "outputs": [],
   "source": [
    "data_dir = Path('..') / 'data'\n",
    "blobs = imread(str(data_dir/'ij-samples'/'blobs.gif'))\n",
    "#leaf = imread(str(data_dir/'ij-samples'/'leaf.jpg'))\n",
    "#flybrain = imread(str(data_dir/'ij-samples'/'flybrain.tif'))\n",
    "\n",
    "blobs = img_as_float(blobs)"
   ]
  },
  {
   "cell_type": "markdown",
   "metadata": {},
   "source": [
    "np.random.seed(42)\n",
    "files = (data_dir / 'dsb2018' / 'train' / 'images').glob('*.tif')\n",
    "files = sorted(files)\n",
    "np.random.shuffle(files)\n",
    "foo = imread(files[0])"
   ]
  },
  {
   "cell_type": "code",
   "execution_count": 7,
   "metadata": {},
   "outputs": [],
   "source": [
    "f = '4c032609d377bd980e01f888e0b298600bf8af0e33c4271a1f3aaf76964dce06.tif'\n",
    "image = imread(str(data_dir.joinpath('dsb2018','train','images',f)))\n",
    "#mask  = imread(str(data_dir.joinpath('dsb2018','train','masks',f)))"
   ]
  },
  {
   "cell_type": "markdown",
   "metadata": {},
   "source": [
    "# Plan"
   ]
  },
  {
   "cell_type": "markdown",
   "metadata": {},
   "source": [
    "soft skills more important than showing actual algorithms, since people should know them from fiji anyway"
   ]
  },
  {
   "cell_type": "markdown",
   "metadata": {},
   "source": [
    "explain notebooks vs. scripts vs. packages\n",
    "\n",
    "- prototype in notebooks or ipython interactove shell\n",
    "- deploy established workflows as scripts (with argparse)\n",
    "- create packages for your own recurring functions (deploy via pip/conda)\n",
    "\n",
    "have little script example that uses argparse to process images in a folder"
   ]
  },
  {
   "cell_type": "markdown",
   "metadata": {
    "hide_input": false
   },
   "source": [
    "SciPy?"
   ]
  },
  {
   "cell_type": "markdown",
   "metadata": {
    "hide_input": false
   },
   "source": [
    "GUIs\n",
    "- napari\n",
    "- spimagine"
   ]
  },
  {
   "cell_type": "code",
   "execution_count": 8,
   "metadata": {},
   "outputs": [
    {
     "name": "stdout",
     "output_type": "stream",
     "text": [
      "Search results for 'contour'\n",
      "----------------------------\n",
      "skimage.measure.find_contours\n",
      "    Find iso-valued contours in a 2D array for a given level value.\n",
      "skimage.segmentation.active_contour\n",
      "    Active contour model.\n",
      "skimage.segmentation.chan_vese\n",
      "    Chan-Vese segmentation algorithm.\n",
      "skimage.segmentation.morphological_chan_vese\n",
      "    Morphological Active Contours without Edges (MorphACWE)\n",
      "skimage.segmentation.morphological_geodesic_active_contour\n",
      "    Morphological Geodesic Active Contours (MorphGAC).\n",
      "skimage.measure.perimeter\n",
      "    Calculate total perimeter of all objects in binary image.\n",
      "skimage.measure.regionprops\n",
      "    Measure properties of labeled image regions.\n",
      "skimage.measure.marching_cubes_classic\n",
      "    Classic marching cubes algorithm to find surfaces in 3d volumetric data.\n",
      "skimage.measure.marching_cubes_lewiner\n",
      "    Lewiner marching cubes algorithm to find surfaces in 3d volumetric data.\n",
      "skimage.segmentation.inverse_gaussian_gradient\n",
      "    Inverse of gradient magnitude."
     ]
    }
   ],
   "source": [
    "np.lookfor('contour', 'skimage')"
   ]
  },
  {
   "cell_type": "markdown",
   "metadata": {},
   "source": [
    "# Rant\n",
    "\n",
    "Use Python 3\n",
    "\n",
    "Python 2 support discontinued 2020?\n",
    "\n",
    "For example, pathlib not in Python 2"
   ]
  },
  {
   "cell_type": "markdown",
   "metadata": {},
   "source": [
    "%load_ext autoreload\n",
    "%autoreload 2\n",
    "\n",
    "a,b=np.unique(x, return_counts=True)\n",
    "\n",
    "plt.plot(a,b,'.-')\n",
    "\n",
    "plt.hist(x.ravel(), bins=100);"
   ]
  },
  {
   "cell_type": "code",
   "execution_count": 9,
   "metadata": {},
   "outputs": [
    {
     "name": "stdout",
     "output_type": "stream",
     "text": [
      "usage: my_workflow.py [-h] --input-dir INPUT_DIR\n",
      "                      [--input-pattern INPUT_PATTERN]\n",
      "                      [--threshold-value THRESHOLD_VALUE]\n",
      "                      [--threshold-method {isodata,li,mean,minimum,otsu,triangle,yen}]\n",
      "                      [--output-file OUTPUT_FILE] [--dry-run]\n",
      "\n",
      "Lorem ipsum dolor sit amet, consectetur adipisicing elit, sed do eiusmod\n",
      "tempor incididunt ut labore et dolore magna aliqua. Ut enim ad minim veniam,\n",
      "quis nostrud exercitation ullamco laboris nisi ut aliquip ex ea commodo\n",
      "consequat. Duis aute irure dolor in reprehenderit in voluptate velit esse\n",
      "cillum dolore eu fugiat nulla pariatur. Excepteur sint occaecat cupidatat non\n",
      "proident, sunt in culpa qui officia deserunt mollit anim id est laborum.\n",
      "\n",
      "optional arguments:\n",
      "  -h, --help            show this help message and exit\n",
      "\n",
      "input:\n",
      "  --input-dir INPUT_DIR\n",
      "                        path to folder with input images (default: None)\n",
      "  --input-pattern INPUT_PATTERN\n",
      "                        glob-style file name pattern of input images (default:\n",
      "                        *.tif*)\n",
      "\n",
      "algorithm:\n",
      "  --threshold-value THRESHOLD_VALUE\n",
      "                        intensity threshold value (to be used instead of\n",
      "                        automatic method) (default: None)\n",
      "  --threshold-method {isodata,li,mean,minimum,otsu,triangle,yen}\n",
      "                        automatic thresholding method (default: otsu)\n",
      "\n",
      "output:\n",
      "  --output-file OUTPUT_FILE\n",
      "                        path to file where results (as CSV) will be save\n",
      "                        (default: measurements.csv)\n",
      "  --dry-run             do a dry run, i.e. don't save results to disk\n",
      "                        (default: False)\n"
     ]
    }
   ],
   "source": [
    "%run my_workflow.py -h"
   ]
  },
  {
   "cell_type": "code",
   "execution_count": 10,
   "metadata": {
    "scrolled": false
   },
   "outputs": [
    {
     "name": "stderr",
     "output_type": "stream",
     "text": [
      "100%|██████████| 447/447 [00:02<00:00, 149.78it/s]\n"
     ]
    },
    {
     "name": "stdout",
     "output_type": "stream",
     "text": [
      "overwriting 'measurements.csv'\n"
     ]
    }
   ],
   "source": [
    "%run my_workflow.py \\\n",
    "--input-dir ../data/dsb2018/train/images \\\n",
    "--input-pattern *.tif*"
   ]
  },
  {
   "cell_type": "code",
   "execution_count": 11,
   "metadata": {},
   "outputs": [],
   "source": [
    "import pandas as pd\n",
    "data = pd.read_csv('measurements.csv')"
   ]
  },
  {
   "cell_type": "code",
   "execution_count": 12,
   "metadata": {},
   "outputs": [
    {
     "data": {
      "text/html": [
       "<div>\n",
       "<style scoped>\n",
       "    .dataframe tbody tr th:only-of-type {\n",
       "        vertical-align: middle;\n",
       "    }\n",
       "\n",
       "    .dataframe tbody tr th {\n",
       "        vertical-align: top;\n",
       "    }\n",
       "\n",
       "    .dataframe thead th {\n",
       "        text-align: right;\n",
       "    }\n",
       "</style>\n",
       "<table border=\"1\" class=\"dataframe\">\n",
       "  <thead>\n",
       "    <tr style=\"text-align: right;\">\n",
       "      <th></th>\n",
       "      <th>Unnamed: 0</th>\n",
       "      <th>objects found</th>\n",
       "      <th>area (mean)</th>\n",
       "      <th>area (std)</th>\n",
       "    </tr>\n",
       "  </thead>\n",
       "  <tbody>\n",
       "    <tr>\n",
       "      <td>0</td>\n",
       "      <td>00071198d059ba7f5914a526d124d28e6d010c92466da2...</td>\n",
       "      <td>21</td>\n",
       "      <td>198.476190</td>\n",
       "      <td>150.684350</td>\n",
       "    </tr>\n",
       "    <tr>\n",
       "      <td>1</td>\n",
       "      <td>003cee89357d9fe13516167fd67b609a164651b2193458...</td>\n",
       "      <td>36</td>\n",
       "      <td>124.250000</td>\n",
       "      <td>55.732184</td>\n",
       "    </tr>\n",
       "    <tr>\n",
       "      <td>2</td>\n",
       "      <td>0280fa8f60f6bcae0f97d93c28f60be194f9309ff610dc...</td>\n",
       "      <td>19</td>\n",
       "      <td>157.210526</td>\n",
       "      <td>112.910574</td>\n",
       "    </tr>\n",
       "    <tr>\n",
       "      <td>3</td>\n",
       "      <td>0287e7ee5b007c91ae2bd7628d09735e70496bc6127ecb...</td>\n",
       "      <td>42</td>\n",
       "      <td>303.976190</td>\n",
       "      <td>273.093608</td>\n",
       "    </tr>\n",
       "    <tr>\n",
       "      <td>4</td>\n",
       "      <td>02903040e19ddf92f452907644ad3822918f54af41dd85...</td>\n",
       "      <td>22</td>\n",
       "      <td>1309.090909</td>\n",
       "      <td>1080.541443</td>\n",
       "    </tr>\n",
       "  </tbody>\n",
       "</table>\n",
       "</div>"
      ],
      "text/plain": [
       "                                          Unnamed: 0  objects found  \\\n",
       "0  00071198d059ba7f5914a526d124d28e6d010c92466da2...             21   \n",
       "1  003cee89357d9fe13516167fd67b609a164651b2193458...             36   \n",
       "2  0280fa8f60f6bcae0f97d93c28f60be194f9309ff610dc...             19   \n",
       "3  0287e7ee5b007c91ae2bd7628d09735e70496bc6127ecb...             42   \n",
       "4  02903040e19ddf92f452907644ad3822918f54af41dd85...             22   \n",
       "\n",
       "   area (mean)   area (std)  \n",
       "0   198.476190   150.684350  \n",
       "1   124.250000    55.732184  \n",
       "2   157.210526   112.910574  \n",
       "3   303.976190   273.093608  \n",
       "4  1309.090909  1080.541443  "
      ]
     },
     "execution_count": 12,
     "metadata": {},
     "output_type": "execute_result"
    }
   ],
   "source": [
    "data.head()"
   ]
  },
  {
   "cell_type": "code",
   "execution_count": 13,
   "metadata": {},
   "outputs": [
    {
     "data": {
      "text/html": [
       "<div>\n",
       "<style scoped>\n",
       "    .dataframe tbody tr th:only-of-type {\n",
       "        vertical-align: middle;\n",
       "    }\n",
       "\n",
       "    .dataframe tbody tr th {\n",
       "        vertical-align: top;\n",
       "    }\n",
       "\n",
       "    .dataframe thead th {\n",
       "        text-align: right;\n",
       "    }\n",
       "</style>\n",
       "<table border=\"1\" class=\"dataframe\">\n",
       "  <thead>\n",
       "    <tr style=\"text-align: right;\">\n",
       "      <th></th>\n",
       "      <th>objects found</th>\n",
       "      <th>area (mean)</th>\n",
       "      <th>area (std)</th>\n",
       "    </tr>\n",
       "  </thead>\n",
       "  <tbody>\n",
       "    <tr>\n",
       "      <td>count</td>\n",
       "      <td>447.000000</td>\n",
       "      <td>447.000000</td>\n",
       "      <td>447.000000</td>\n",
       "    </tr>\n",
       "    <tr>\n",
       "      <td>mean</td>\n",
       "      <td>50.123043</td>\n",
       "      <td>468.342931</td>\n",
       "      <td>402.803740</td>\n",
       "    </tr>\n",
       "    <tr>\n",
       "      <td>std</td>\n",
       "      <td>69.008354</td>\n",
       "      <td>523.514340</td>\n",
       "      <td>485.700998</td>\n",
       "    </tr>\n",
       "    <tr>\n",
       "      <td>min</td>\n",
       "      <td>5.000000</td>\n",
       "      <td>28.547059</td>\n",
       "      <td>25.411069</td>\n",
       "    </tr>\n",
       "    <tr>\n",
       "      <td>25%</td>\n",
       "      <td>17.000000</td>\n",
       "      <td>132.063889</td>\n",
       "      <td>68.643088</td>\n",
       "    </tr>\n",
       "    <tr>\n",
       "      <td>50%</td>\n",
       "      <td>28.000000</td>\n",
       "      <td>204.978261</td>\n",
       "      <td>137.548957</td>\n",
       "    </tr>\n",
       "    <tr>\n",
       "      <td>75%</td>\n",
       "      <td>51.000000</td>\n",
       "      <td>543.003398</td>\n",
       "      <td>484.740144</td>\n",
       "    </tr>\n",
       "    <tr>\n",
       "      <td>max</td>\n",
       "      <td>768.000000</td>\n",
       "      <td>2679.714286</td>\n",
       "      <td>2363.736767</td>\n",
       "    </tr>\n",
       "  </tbody>\n",
       "</table>\n",
       "</div>"
      ],
      "text/plain": [
       "       objects found  area (mean)   area (std)\n",
       "count     447.000000   447.000000   447.000000\n",
       "mean       50.123043   468.342931   402.803740\n",
       "std        69.008354   523.514340   485.700998\n",
       "min         5.000000    28.547059    25.411069\n",
       "25%        17.000000   132.063889    68.643088\n",
       "50%        28.000000   204.978261   137.548957\n",
       "75%        51.000000   543.003398   484.740144\n",
       "max       768.000000  2679.714286  2363.736767"
      ]
     },
     "execution_count": 13,
     "metadata": {},
     "output_type": "execute_result"
    }
   ],
   "source": [
    "data.describe()"
   ]
  }
 ],
 "metadata": {
  "kernelspec": {
   "display_name": "Python 3",
   "language": "python",
   "name": "python3"
  },
  "language_info": {
   "codemirror_mode": {
    "name": "ipython",
    "version": 3
   },
   "file_extension": ".py",
   "mimetype": "text/x-python",
   "name": "python",
   "nbconvert_exporter": "python",
   "pygments_lexer": "ipython3",
   "version": "3.6.9"
  }
 },
 "nbformat": 4,
 "nbformat_minor": 2
}
