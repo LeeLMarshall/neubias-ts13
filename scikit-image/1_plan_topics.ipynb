{
 "cells": [
  {
   "cell_type": "markdown",
   "metadata": {},
   "source": [
    "soft skills more important than showing actual algorithms, since people should know them from fiji anyway"
   ]
  },
  {
   "cell_type": "markdown",
   "metadata": {},
   "source": [
    "explain notebooks vs. scripts vs. packages\n",
    "\n",
    "- prototype in notebooks or ipython interactove shell\n",
    "- deploy established workflows as scripts (with argparse)\n",
    "- create packages for your own recurring functions (deploy via pip/conda)\n",
    "\n",
    "have little script example that uses argparse to process images in a folder"
   ]
  },
  {
   "cell_type": "markdown",
   "metadata": {
    "hide_input": false
   },
   "source": [
    "algorithms\n",
    "\n",
    "- low-level\n",
    "    - rescaling, resizing, rotate\n",
    "    - brightness, contrast adjustments\n",
    "    - filtering: median, gauss, min/max, etc.\n",
    "    - edge detection\n",
    "- segmentation\n",
    "    - thresholding\n",
    "    - connected components\n",
    "    - watershed\n",
    "- measurements & display\n",
    "    - regionsprops\n",
    "    - plotting labelings, label2rgb\n",
    "- restoration\n",
    "    - denoising: bilateral, nlm, bm3d\n",
    "    - deconvolution: LR\n",
    "    - image quality: psnr, ssim\n",
    "- shape / misc\n",
    "    - morphological operations\n",
    "    - skeletonize\n",
    "    - hough?\n",
    "    - blob detection\n",
    "    - peak finding"
   ]
  },
  {
   "cell_type": "markdown",
   "metadata": {
    "hide_input": false
   },
   "source": [
    "SciPy?"
   ]
  },
  {
   "cell_type": "markdown",
   "metadata": {
    "hide_input": false
   },
   "source": [
    "GUIs\n",
    "- napari\n",
    "- spimagine"
   ]
  }
 ],
 "metadata": {
  "kernelspec": {
   "display_name": "Python 3",
   "language": "python",
   "name": "python3"
  },
  "language_info": {
   "codemirror_mode": {
    "name": "ipython",
    "version": 3
   },
   "file_extension": ".py",
   "mimetype": "text/x-python",
   "name": "python",
   "nbconvert_exporter": "python",
   "pygments_lexer": "ipython3",
   "version": "3.6.9"
  }
 },
 "nbformat": 4,
 "nbformat_minor": 2
}
