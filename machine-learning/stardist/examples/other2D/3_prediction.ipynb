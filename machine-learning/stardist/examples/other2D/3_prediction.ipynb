{
 "cells": [
  {
   "cell_type": "markdown",
   "metadata": {},
   "source": [
    "# NOTE\n",
    "\n",
    "**If you have not looked at the [regular example notebooks](../2D), please do so first.**  \n",
    "The notebooks in this folder provide further details about the inner workings of StarDist and might be useful if you want to apply it in a slightly different context."
   ]
  },
  {
   "cell_type": "code",
   "execution_count": null,
   "metadata": {},
   "outputs": [],
   "source": [
    "from __future__ import print_function, unicode_literals, absolute_import, division\n",
    "import numpy as np\n",
    "import matplotlib.pyplot as plt\n",
    "%matplotlib inline\n",
    "%config InlineBackend.figure_format = 'retina'\n",
    "\n",
    "from glob import glob\n",
    "from tifffile import imread\n",
    "from csbdeep.utils import Path, normalize\n",
    "from skimage.segmentation import find_boundaries\n",
    "\n",
    "from stardist import dist_to_coord, non_maximum_suppression, polygons_to_label\n",
    "from stardist import random_label_cmap, draw_polygons, _draw_polygons, sample_points\n",
    "from stardist.models import Config2D, StarDist2D\n",
    "\n",
    "np.random.seed(6)\n",
    "lbl_cmap = random_label_cmap()"
   ]
  },
  {
   "cell_type": "markdown",
   "metadata": {},
   "source": [
    "# Data\n",
    "\n",
    "We assume that data has already been downloaded in via notebook [1_data.ipynb](1_data.ipynb).  \n",
    "We now load images from the sub-folder `test` that have not been used during training."
   ]
  },
  {
   "cell_type": "code",
   "execution_count": null,
   "metadata": {},
   "outputs": [],
   "source": [
    "X = sorted(glob('data/dsb2018/test/images/*.tif'))\n",
    "X = list(map(imread,X))\n",
    "\n",
    "n_channel = 1 if X[0].ndim == 2 else X[0].shape[-1]\n",
    "axis_norm = (0,1)   # normalize channels independently\n",
    "# axis_norm = (0,1,2) # normalize channels jointly\n",
    "if n_channel > 1:\n",
    "    print(\"Normalizing image channels %s.\" % ('jointly' if axis_norm is None or 2 in axis_norm else 'independently'))"
   ]
  },
  {
   "cell_type": "code",
   "execution_count": null,
   "metadata": {},
   "outputs": [],
   "source": [
    "# show all test images\n",
    "if False:\n",
    "    fig, ax = plt.subplots(7,8, figsize=(16,16))\n",
    "    for i,(a,x) in enumerate(zip(ax.flat, X)):\n",
    "        a.imshow(x,cmap='gray')\n",
    "        a.set_title(i)\n",
    "    [a.axis('off') for a in ax.flat]\n",
    "    plt.tight_layout()\n",
    "None;"
   ]
  },
  {
   "cell_type": "markdown",
   "metadata": {},
   "source": [
    "# Load StarDist models\n",
    "\n",
    "We assume that two StarDist models have already been trained via notebook [2_training.ipynb](2_training.ipynb)."
   ]
  },
  {
   "cell_type": "code",
   "execution_count": null,
   "metadata": {},
   "outputs": [],
   "source": [
    "# Without shape completion\n",
    "model_no_sc = StarDist2D(None, name='stardist_no_shape_completion', basedir='models')"
   ]
  },
  {
   "cell_type": "code",
   "execution_count": null,
   "metadata": {},
   "outputs": [],
   "source": [
    "# With shape completion\n",
    "model_sc = StarDist2D(None, name='stardist_shape_completion', basedir='models')"
   ]
  },
  {
   "cell_type": "markdown",
   "metadata": {},
   "source": [
    "## Prediction\n",
    "\n",
    "1. Load image and normalize\n",
    "2. Predict object `prob`abilities and star-convex polygon `dist`ances\n",
    "3. Convert `dist`ances to polygon vertex `coord`inates\n",
    "4. Perform non-maximum suppression for polygons above object probability threshold\n",
    "5. Convert final polygons to label instance image"
   ]
  },
  {
   "cell_type": "code",
   "execution_count": null,
   "metadata": {},
   "outputs": [],
   "source": [
    "%%time\n",
    "# 1.\n",
    "%time img = normalize(X[16], 1,99.8, axis=axis_norm)\n",
    "# 2.\n",
    "%time prob, dist = model_sc.predict(img)\n",
    "# 3.\n",
    "%time coord = dist_to_coord(dist, grid=model_sc.config.grid)\n",
    "# 4.\n",
    "%time points = non_maximum_suppression(coord,prob, prob_thresh=0.4, grid=model_sc.config.grid)\n",
    "# 5.\n",
    "%time labels = polygons_to_label(coord,prob,points, shape=img.shape)\n",
    "print('------------------')"
   ]
  },
  {
   "cell_type": "markdown",
   "metadata": {},
   "source": [
    "In many cases, you only want the predicted label image. This can be done like this:\n",
    "\n",
    "    labels = model_sc.predict_instances(img, prob_thresh=0.4)"
   ]
  },
  {
   "cell_type": "code",
   "execution_count": null,
   "metadata": {},
   "outputs": [],
   "source": [
    "img_show = img if img.ndim==2 else img[...,:3]\n",
    "fig, ax = plt.subplots(2,2, figsize=(12,12))\n",
    "for a,d,cm,s in zip(ax.flat, [img_show,prob,dist[...,0],labels], ['gray','magma','viridis',lbl_cmap],\n",
    "                    ['Input image','Predicted object probability','Predicted distance (0°)','Predicted label instances']):\n",
    "    a.imshow(d,cmap=cm)\n",
    "    a.set_title(s)\n",
    "    a.axis('off')\n",
    "plt.tight_layout()\n",
    "None;"
   ]
  },
  {
   "cell_type": "code",
   "execution_count": null,
   "metadata": {},
   "outputs": [],
   "source": [
    "plt.figure(figsize=(13,12))\n",
    "points_rnd = sample_points(200,prob>0.2)\n",
    "plt.subplot(121); plt.imshow(img_show,cmap='gray'); draw_polygons(coord,prob,points_rnd, cmap=lbl_cmap,grid=model_sc.config.grid)\n",
    "plt.axis('off'); plt.title('Polygons randomly sampled')\n",
    "plt.subplot(122); plt.imshow(img_show,cmap='gray'); draw_polygons(coord,prob,points, cmap=lbl_cmap,grid=model_sc.config.grid)\n",
    "plt.axis('off'); plt.title('Polygons after non-maximum suppression')\n",
    "plt.tight_layout()\n",
    "None;"
   ]
  },
  {
   "cell_type": "markdown",
   "metadata": {},
   "source": [
    "# Comparing results with and without shape completion"
   ]
  },
  {
   "cell_type": "code",
   "execution_count": null,
   "metadata": {},
   "outputs": [],
   "source": [
    "def example(model,i):\n",
    "    img = normalize(X[i],1,99.8,axis=axis_norm)\n",
    "    labels, details = model.predict_instances(img)\n",
    "\n",
    "    plt.figure(figsize=(13,10))\n",
    "    img_show = img if img.ndim==2 else img[...,:3]\n",
    "    coord, points, prob = details['coord'], details['points'], details['prob']\n",
    "    plt.subplot(121); plt.imshow(img_show, cmap='gray'); plt.axis('off')\n",
    "    _draw_polygons(coord, points, prob, grid=model.config.grid, show_dist=True)\n",
    "    if model in (model_no_sc, model_sc):\n",
    "        plt.title(('With' if model==model_sc else 'Without') + ' shape completion')\n",
    "    plt.subplot(122); plt.imshow(img_show, cmap='gray'); plt.axis('off')\n",
    "    plt.imshow(labels, cmap=lbl_cmap, alpha=0.5)\n",
    "    plt.tight_layout()\n",
    "    plt.show()"
   ]
  },
  {
   "cell_type": "code",
   "execution_count": null,
   "metadata": {},
   "outputs": [],
   "source": [
    "example(model_no_sc,42)\n",
    "example(model_sc,42)"
   ]
  },
  {
   "cell_type": "code",
   "execution_count": null,
   "metadata": {},
   "outputs": [],
   "source": [
    "example(model_no_sc,1)\n",
    "example(model_sc,1)"
   ]
  },
  {
   "cell_type": "code",
   "execution_count": null,
   "metadata": {},
   "outputs": [],
   "source": [
    "example(model_no_sc,15)\n",
    "example(model_sc,15)"
   ]
  },
  {
   "cell_type": "markdown",
   "metadata": {},
   "source": [
    "# Model from paper"
   ]
  },
  {
   "cell_type": "code",
   "execution_count": null,
   "metadata": {},
   "outputs": [],
   "source": [
    "model_paper = StarDist2D(None, name='2D_dsb2018', basedir='../../models/paper')"
   ]
  },
  {
   "cell_type": "code",
   "execution_count": null,
   "metadata": {},
   "outputs": [],
   "source": [
    "example(model_paper,29)"
   ]
  }
 ],
 "metadata": {
  "kernelspec": {
   "display_name": "Python 3",
   "language": "python",
   "name": "python3"
  },
  "language_info": {
   "codemirror_mode": {
    "name": "ipython",
    "version": 3
   },
   "file_extension": ".py",
   "mimetype": "text/x-python",
   "name": "python",
   "nbconvert_exporter": "python",
   "pygments_lexer": "ipython3",
   "version": "3.6.9"
  }
 },
 "nbformat": 4,
 "nbformat_minor": 2
}
