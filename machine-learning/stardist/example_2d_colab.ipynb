{
  "nbformat": 4,
  "nbformat_minor": 0,
  "metadata": {
    "kernelspec": {
      "name": "python3",
      "display_name": "Python 3"
    },
    "language_info": {
      "codemirror_mode": {
        "name": "ipython",
        "version": 3
      },
      "file_extension": ".py",
      "mimetype": "text/x-python",
      "name": "python",
      "nbconvert_exporter": "python",
      "pygments_lexer": "ipython3",
      "version": "3.6.4"
    },
    "colab": {
      "name": "example_2D_colab.ipynb",
      "provenance": [],
      "collapsed_sections": [],
      "include_colab_link": true
    },
    "accelerator": "GPU"
  },
  "cells": [
    {
      "cell_type": "markdown",
      "metadata": {
        "id": "view-in-github",
        "colab_type": "text"
      },
      "source": [
        "<a href=\"https://colab.research.google.com/gist/maweigert/fe03f4d1983511443911af26c1caf51d/example_2d_colab.ipynb\" target=\"_parent\"><img src=\"https://colab.research.google.com/assets/colab-badge.svg\" alt=\"Open In Colab\"/></a>"
      ]
    },
    {
      "cell_type": "markdown",
      "metadata": {
        "id": "BaWMKwiySlW_",
        "colab_type": "text"
      },
      "source": [
        "#Stardist 2D workflow"
      ]
    },
    {
      "cell_type": "markdown",
      "metadata": {
        "id": "iOe5g3bvSuJu",
        "colab_type": "text"
      },
      "source": [
        "# 0. Installation and preparation (for google colab only)"
      ]
    },
    {
      "cell_type": "markdown",
      "metadata": {
        "id": "_V38hQNSS-vu",
        "colab_type": "text"
      },
      "source": [
        "1. Set the google runtime to GPU (\"Runtime->Change runtime type\" select GPU)\n",
        "2. Mount your google drive (see below)\n",
        "3. Download stardist code (for example models)\n",
        "3. Install dependencies (see below)"
      ]
    },
    {
      "cell_type": "code",
      "metadata": {
        "id": "uNxVkw5WS0dR",
        "colab_type": "code",
        "colab": {}
      },
      "source": [
        "from google.colab import drive\n",
        "drive.mount('/content/drive/')"
      ],
      "execution_count": 0,
      "outputs": []
    },
    {
      "cell_type": "code",
      "metadata": {
        "id": "HVeqsuCVgq23",
        "colab_type": "code",
        "colab": {}
      },
      "source": [
        "!git clone https://github.com/mpicbg-csbd/stardist.git \"/content/drive/My Drive/stardist_code\""
      ],
      "execution_count": 0,
      "outputs": []
    },
    {
      "cell_type": "code",
      "metadata": {
        "id": "0_pJgAG0TgZW",
        "colab_type": "code",
        "colab": {}
      },
      "source": [
        "!pip install tifffile stardist"
      ],
      "execution_count": 0,
      "outputs": []
    },
    {
      "cell_type": "code",
      "metadata": {
        "id": "US4nq_f2Sf6a",
        "colab_type": "code",
        "colab": {}
      },
      "source": [
        "from __future__ import print_function, unicode_literals, absolute_import, division\n",
        "import numpy as np\n",
        "import sys\n",
        "import matplotlib.pyplot as plt\n",
        "%matplotlib inline\n",
        "%config InlineBackend.figure_format = 'retina'\n",
        "\n",
        "from glob import glob\n",
        "from tqdm import tqdm\n",
        "from tifffile import imread\n",
        "from csbdeep.utils import Path, download_and_extract_zip_file, normalize\n",
        "\n",
        "from stardist.matching import matching_dataset\n",
        "from stardist import fill_label_holes, random_label_cmap, relabel_image_stardist, calculate_extents, gputools_available, _draw_polygons\n",
        "from stardist.models import Config2D, StarDist2D, StarDistData2D\n",
        "\n",
        "\n",
        "np.random.seed(42)\n",
        "lbl_cmap = random_label_cmap()"
      ],
      "execution_count": 0,
      "outputs": []
    },
    {
      "cell_type": "markdown",
      "metadata": {
        "id": "sEU15_9zSf6d",
        "colab_type": "text"
      },
      "source": [
        "# 1. Data\n",
        "\n",
        "This notebook demonstrates how the training data for *StarDist* should look like and whether the annotated objects can be appropriately described by star-convex polygons. \n",
        "\n",
        "<div class=\"alert alert-block alert-info\">\n",
        "The training data that needs to be provided for StarDist consists of corresponding pairs of raw images and pixelwise annotated ground truth images (masks), where every pixel has a unique integer value indicating the object id (or 0 for background). \n",
        "</div>\n",
        "\n",
        "For this demo we will download the file `dsb2018.zip` that contains the respective train and test images with associated ground truth labels as used in [our paper](https://arxiv.org/abs/1806.03535).\n",
        "They are a subset of the `stage1_train` images from the Kaggle 2018 Data Science Bowl, which are [available in full](https://data.broadinstitute.org/bbbc/BBBC038/) from the [Broad Bioimage Benchmark Collection](https://data.broadinstitute.org/bbbc/)."
      ]
    },
    {
      "cell_type": "code",
      "metadata": {
        "id": "986efymQT2eK",
        "colab_type": "code",
        "colab": {}
      },
      "source": [
        "root = \"/content/drive/My Drive/stardist/\""
      ],
      "execution_count": 0,
      "outputs": []
    },
    {
      "cell_type": "code",
      "metadata": {
        "id": "hnsO-gPRSf6e",
        "colab_type": "code",
        "colab": {}
      },
      "source": [
        "download_and_extract_zip_file(\n",
        "    url       = 'https://github.com/mpicbg-csbd/stardist/releases/download/0.1.0/dsb2018.zip',\n",
        "    targetdir = Path(root)/'data',\n",
        "    verbose   = 1,\n",
        ")"
      ],
      "execution_count": 0,
      "outputs": []
    },
    {
      "cell_type": "code",
      "metadata": {
        "id": "B06g4tSPUMtk",
        "colab_type": "code",
        "colab": {}
      },
      "source": [
        "!ls /content/drive/My\\ Drive/stardist/data/"
      ],
      "execution_count": 0,
      "outputs": []
    },
    {
      "cell_type": "code",
      "metadata": {
        "id": "bKBWBJ-QSf6h",
        "colab_type": "code",
        "colab": {}
      },
      "source": [
        "fX = sorted((Path(root)/'data/dsb2018/train/images/').glob('*.tif'))\n",
        "fY = sorted((Path(root)/'data/dsb2018/train/masks').glob('*.tif'))\n",
        "assert all(Path(x).name==Path(y).name for x,y in zip(fX,fY))"
      ],
      "execution_count": 0,
      "outputs": []
    },
    {
      "cell_type": "markdown",
      "metadata": {
        "id": "pTs--gG2Sf6j",
        "colab_type": "text"
      },
      "source": [
        "Load only a small subset for display"
      ]
    },
    {
      "cell_type": "code",
      "metadata": {
        "id": "NAoUNkj3Sf6k",
        "colab_type": "code",
        "colab": {}
      },
      "source": [
        "fX_small, fY_small = fX[:10], fY[:10]"
      ],
      "execution_count": 0,
      "outputs": []
    },
    {
      "cell_type": "code",
      "metadata": {
        "id": "D0KznkMbSf6m",
        "colab_type": "code",
        "colab": {}
      },
      "source": [
        "X_small = list(map(imread,map(str,fX_small)))\n",
        "Y_small = list(map(imread,map(str,fY_small)))"
      ],
      "execution_count": 0,
      "outputs": []
    },
    {
      "cell_type": "markdown",
      "metadata": {
        "id": "I6HBW-RsSf6n",
        "colab_type": "text"
      },
      "source": [
        "## Example image"
      ]
    },
    {
      "cell_type": "code",
      "metadata": {
        "id": "NyDOaaUtSf6o",
        "colab_type": "code",
        "colab": {}
      },
      "source": [
        "i = min(4, len(X_small)-1)\n",
        "img, lbl = X_small[i], fill_label_holes(Y_small[i])\n",
        "assert img.ndim in (2,3)\n",
        "img = img if img.ndim==2 else img[...,:3]\n",
        "# assumed axes ordering of img and lbl is: YX(C)"
      ],
      "execution_count": 0,
      "outputs": []
    },
    {
      "cell_type": "code",
      "metadata": {
        "id": "qurOFQSMSf6q",
        "colab_type": "code",
        "colab": {}
      },
      "source": [
        "plt.figure(figsize=(16,10))\n",
        "plt.subplot(121); plt.imshow(img,cmap='gray');   plt.axis('off'); plt.title('Raw image')\n",
        "plt.subplot(122); plt.imshow(lbl,cmap=lbl_cmap); plt.axis('off'); plt.title('GT labels')\n",
        "None;"
      ],
      "execution_count": 0,
      "outputs": []
    },
    {
      "cell_type": "markdown",
      "metadata": {
        "id": "rB0MYufYSf6s",
        "colab_type": "text"
      },
      "source": [
        "## Fitting ground-truth labels with star-convex polygons"
      ]
    },
    {
      "cell_type": "code",
      "metadata": {
        "id": "NPZAInhNSf6t",
        "colab_type": "code",
        "colab": {}
      },
      "source": [
        "n_rays = [2**i for i in range(2,8)]\n",
        "scores = []\n",
        "for r in tqdm(n_rays):\n",
        "    Y_reconstructed = [relabel_image_stardist(lbl, n_rays=r) for lbl in Y_small]\n",
        "    mean_iou = matching_dataset(Y_small, Y_reconstructed, thresh=0, show_progress=False).mean_true_score\n",
        "    scores.append(mean_iou)"
      ],
      "execution_count": 0,
      "outputs": []
    },
    {
      "cell_type": "code",
      "metadata": {
        "id": "0tBgKQijSf6u",
        "colab_type": "code",
        "colab": {}
      },
      "source": [
        "plt.figure(figsize=(8,5))\n",
        "plt.plot(n_rays, scores, 'o-')\n",
        "plt.xlabel('Number of rays for star-convex polygon')\n",
        "plt.ylabel('Reconstruction score (mean intersection over union)')\n",
        "plt.title(\"Accuracy of ground truth reconstruction (should be > 0.8 for a reasonable number of rays)\")\n",
        "None;"
      ],
      "execution_count": 0,
      "outputs": []
    },
    {
      "cell_type": "markdown",
      "metadata": {
        "id": "w5CSERRISf6w",
        "colab_type": "text"
      },
      "source": [
        "## Example image reconstructed with various number of rays"
      ]
    },
    {
      "cell_type": "code",
      "metadata": {
        "id": "oxbs2Wp7Sf6x",
        "colab_type": "code",
        "colab": {}
      },
      "source": [
        "fig, ax = plt.subplots(2,3, figsize=(16,11))\n",
        "for a,r in zip(ax.flat,n_rays):\n",
        "    a.imshow(relabel_image_stardist(lbl, n_rays=r), cmap=lbl_cmap)\n",
        "    a.set_title('Reconstructed (%d rays)' % r)\n",
        "    a.axis('off')\n",
        "plt.tight_layout();"
      ],
      "execution_count": 0,
      "outputs": []
    },
    {
      "cell_type": "markdown",
      "metadata": {
        "id": "JwO371VFSf61",
        "colab_type": "text"
      },
      "source": [
        "# 2. Training \n",
        "\n",
        "\n",
        "<div class=\"alert alert-block alert-info\">\n",
        "Training data (for input `X` with associated label masks `Y`) can be provided via lists of numpy arrays, where each image can have a different size. Alternatively, a single numpy array can also be used if all images have the same size.  \n",
        "Input images can either be two-dimensional (single-channel) or three-dimensional (multi-channel) arrays, where the channel axis comes last. Label images need to be integer-valued.\n",
        "</div>"
      ]
    },
    {
      "cell_type": "code",
      "metadata": {
        "id": "gZRk78lqSf61",
        "colab_type": "code",
        "colab": {}
      },
      "source": [
        "fX = sorted((Path(root)/'data/dsb2018/train/images/').glob('*.tif'))\n",
        "fY = sorted((Path(root)/'data/dsb2018/train/masks').glob('*.tif'))\n",
        "assert all(Path(x).name==Path(y).name for x,y in zip(fX,fY))\n",
        "print(f\"{len(fX)} files found\")"
      ],
      "execution_count": 0,
      "outputs": []
    },
    {
      "cell_type": "code",
      "metadata": {
        "id": "TZ_rITSjSf63",
        "colab_type": "code",
        "colab": {}
      },
      "source": [
        "X = list(map(imread,map(str,tqdm(fX))))\n",
        "Y = list(map(imread,map(str,tqdm(fY))))\n",
        "n_channel = 1 if X[0].ndim == 2 else X[0].shape[-1]"
      ],
      "execution_count": 0,
      "outputs": []
    },
    {
      "cell_type": "markdown",
      "metadata": {
        "id": "3nM21GHKSf66",
        "colab_type": "text"
      },
      "source": [
        "Normalize images and fill small label holes."
      ]
    },
    {
      "cell_type": "code",
      "metadata": {
        "id": "O0sSTDZ7Sf67",
        "colab_type": "code",
        "colab": {}
      },
      "source": [
        "axis_norm = (0,1)   # normalize channels independently\n",
        "# axis_norm = (0,1,2) # normalize channels jointly\n",
        "if n_channel > 1:\n",
        "    print(\"Normalizing image channels %s.\" % ('jointly' if axis_norm is None or 2 in axis_norm else 'independently'))\n",
        "    sys.stdout.flush()\n",
        "\n",
        "X = [normalize(x,1,99.8,axis=axis_norm) for x in tqdm(X)]\n",
        "Y = [fill_label_holes(y) for y in tqdm(Y)]"
      ],
      "execution_count": 0,
      "outputs": []
    },
    {
      "cell_type": "markdown",
      "metadata": {
        "id": "EO3scWFrSf69",
        "colab_type": "text"
      },
      "source": [
        "Split into train and validation datasets."
      ]
    },
    {
      "cell_type": "code",
      "metadata": {
        "id": "B9PxV4maSf6-",
        "colab_type": "code",
        "colab": {}
      },
      "source": [
        "assert len(X) > 1, \"not enough training data\"\n",
        "rng = np.random.RandomState(42)\n",
        "ind = rng.permutation(len(X))\n",
        "n_val = max(1, int(round(0.15 * len(ind))))\n",
        "ind_train, ind_val = ind[:-n_val], ind[-n_val:]\n",
        "X_val, Y_val = [X[i] for i in ind_val]  , [Y[i] for i in ind_val]\n",
        "X_trn, Y_trn = [X[i] for i in ind_train], [Y[i] for i in ind_train] \n",
        "print('number of images: %3d' % len(X))\n",
        "print('- training:       %3d' % len(X_trn))\n",
        "print('- validation:     %3d' % len(X_val))"
      ],
      "execution_count": 0,
      "outputs": []
    },
    {
      "cell_type": "markdown",
      "metadata": {
        "id": "21L1LHeUSf7A",
        "colab_type": "text"
      },
      "source": [
        "Training data consists of pairs of input image and label instances."
      ]
    },
    {
      "cell_type": "code",
      "metadata": {
        "id": "BNR7F44xSf7A",
        "colab_type": "code",
        "colab": {}
      },
      "source": [
        "i = min(9, len(X)-1)\n",
        "img, lbl = X[i], Y[i]\n",
        "assert img.ndim in (2,3)\n",
        "img = img if img.ndim==2 else img[...,:3]\n",
        "plt.figure(figsize=(16,10))\n",
        "plt.subplot(121); plt.imshow(img,cmap='gray');   plt.axis('off'); plt.title('Raw image')\n",
        "plt.subplot(122); plt.imshow(lbl,cmap=lbl_cmap); plt.axis('off'); plt.title('GT labels')\n",
        "None;"
      ],
      "execution_count": 0,
      "outputs": []
    },
    {
      "cell_type": "markdown",
      "metadata": {
        "id": "sC1nVB4OSf7D",
        "colab_type": "text"
      },
      "source": [
        "## Configuration\n",
        "\n",
        "A `StarDist2D` model is specified via a `Config2D` object."
      ]
    },
    {
      "cell_type": "code",
      "metadata": {
        "id": "cLOA--2hSf7D",
        "colab_type": "code",
        "colab": {}
      },
      "source": [
        "print(Config2D.__doc__)"
      ],
      "execution_count": 0,
      "outputs": []
    },
    {
      "cell_type": "code",
      "metadata": {
        "id": "VpJWGiR5Sf7I",
        "colab_type": "code",
        "colab": {}
      },
      "source": [
        "# 32 is a good default choice (see 1_data.ipynb)\n",
        "n_rays = 32\n",
        "\n",
        "# Use OpenCL-based computations for data generator during training (requires 'gputools')\n",
        "use_gpu = False and gputools_available()\n",
        "\n",
        "# Predict on subsampled grid for increased efficiency and larger field of view\n",
        "grid = (2,2)\n",
        "\n",
        "conf = Config2D (\n",
        "    n_rays       = n_rays,\n",
        "    grid         = grid,\n",
        "    use_gpu      = use_gpu,\n",
        "    n_channel_in = n_channel,\n",
        ")\n",
        "print(conf)\n",
        "vars(conf)"
      ],
      "execution_count": 0,
      "outputs": []
    },
    {
      "cell_type": "code",
      "metadata": {
        "id": "OOq4zwmYSf7L",
        "colab_type": "code",
        "colab": {}
      },
      "source": [
        "if use_gpu:\n",
        "    from csbdeep.utils.tf import limit_gpu_memory\n",
        "    # adjust as necessary: limit GPU memory to be used by TensorFlow to leave some to OpenCL-based computations\n",
        "    limit_gpu_memory(0.8)"
      ],
      "execution_count": 0,
      "outputs": []
    },
    {
      "cell_type": "markdown",
      "metadata": {
        "id": "qoyHjTItSf7N",
        "colab_type": "text"
      },
      "source": [
        "**Note:** The trained `StarDist2D` model will *not* predict completed shapes for partially visible objects at the image boundary if `train_shape_completion=False` (which is the default option)."
      ]
    },
    {
      "cell_type": "code",
      "metadata": {
        "id": "noQaZKbNSf7N",
        "colab_type": "code",
        "colab": {}
      },
      "source": [
        "model = StarDist2D(conf, name='stardist', basedir=Path(root)/'models')"
      ],
      "execution_count": 0,
      "outputs": []
    },
    {
      "cell_type": "markdown",
      "metadata": {
        "id": "D0bG10FUSf7P",
        "colab_type": "text"
      },
      "source": [
        "Check if the neural network has a large enough field of view to see up to the boundary of most objects."
      ]
    },
    {
      "cell_type": "code",
      "metadata": {
        "id": "Lgl5kG6GSf7Q",
        "colab_type": "code",
        "colab": {}
      },
      "source": [
        "median_size = calculate_extents(list(Y), np.median)\n",
        "fov = np.array(model._axes_tile_overlap('YX'))\n",
        "if any(median_size > fov):\n",
        "    print(\"WARNING: median object size larger than field of view of the neural network.\")"
      ],
      "execution_count": 0,
      "outputs": []
    },
    {
      "cell_type": "markdown",
      "metadata": {
        "id": "tzguGqwISf7T",
        "colab_type": "text"
      },
      "source": [
        "## Model Training"
      ]
    },
    {
      "cell_type": "markdown",
      "metadata": {
        "id": "09l9UNQ2Sf7T",
        "colab_type": "text"
      },
      "source": [
        "You can define a function/callable that applies augmentation to each batch of the data generator."
      ]
    },
    {
      "cell_type": "code",
      "metadata": {
        "id": "E4SYL3wXSf7U",
        "colab_type": "code",
        "colab": {}
      },
      "source": [
        "augmenter = None\n",
        "\n",
        "# def augmenter(X_batch, Y_batch):\n",
        "#     \"\"\"Augmentation for data batch.\n",
        "#     X_batch is a list of input images (length at most batch_size)\n",
        "#     Y_batch is the corresponding list of ground-truth label images\n",
        "#     \"\"\"\n",
        "#     # ...\n",
        "#     return X_batch, Y_batch"
      ],
      "execution_count": 0,
      "outputs": []
    },
    {
      "cell_type": "markdown",
      "metadata": {
        "id": "XI8NfDugSf7V",
        "colab_type": "text"
      },
      "source": [
        "We recommend to monitor the progress during training with [TensorBoard](https://www.tensorflow.org/programmers_guide/summaries_and_tensorboard). You can start it in the shell from the current working directory like this:\n",
        "\n",
        "    $ tensorboard --logdir=.\n",
        "\n",
        "Then connect to [http://localhost:6006/](http://localhost:6006/) with your browser.\n"
      ]
    },
    {
      "cell_type": "code",
      "metadata": {
        "id": "TvouFU_ASf7W",
        "colab_type": "code",
        "colab": {}
      },
      "source": [
        "quick_demo = True\n",
        "\n",
        "if quick_demo:\n",
        "    print (\n",
        "        \"NOTE: This is only for a quick demonstration!\\n\"\n",
        "        \"      Please set the variable 'quick_demo = False' for proper (long) training.\",\n",
        "        file=sys.stderr, flush=True\n",
        "    )\n",
        "    model.train(X_trn, Y_trn, validation_data=(X_val,Y_val), augmenter=augmenter,\n",
        "                epochs=5, steps_per_epoch=30)\n",
        "\n",
        "    print(\"====> Stopping training and loading previously trained demo model from disk.\", file=sys.stderr, flush=True)\n",
        "    model = StarDist2D(None, name='2D_demo', basedir=Path(root)/'../stardist_code/models/examples')\n",
        "    model.basedir = None # to prevent files of the demo model to be overwritten (not needed for your model)\n",
        "else:\n",
        "    model.train(X_trn, Y_trn, validation_data=(X_val,Y_val), augmenter=augmenter)\n",
        "None;"
      ],
      "execution_count": 0,
      "outputs": []
    },
    {
      "cell_type": "markdown",
      "metadata": {
        "id": "7TZRSgHBSf7Y",
        "colab_type": "text"
      },
      "source": [
        "## Threshold optimization"
      ]
    },
    {
      "cell_type": "markdown",
      "metadata": {
        "id": "pxURfvjzSf7Y",
        "colab_type": "text"
      },
      "source": [
        "While the default values for the probability and non-maximum suppression thresholds already yield good results in many cases, we still recommend to adapt the thresholds to your data. The optimized threshold values are saved to disk and will be automatically loaded with the model."
      ]
    },
    {
      "cell_type": "code",
      "metadata": {
        "scrolled": false,
        "id": "eyiOl6vFSf7Y",
        "colab_type": "code",
        "colab": {}
      },
      "source": [
        "model.optimize_thresholds(X_val, Y_val)"
      ],
      "execution_count": 0,
      "outputs": []
    },
    {
      "cell_type": "markdown",
      "metadata": {
        "id": "W9i_Uc0Vhkmo",
        "colab_type": "text"
      },
      "source": [
        "# 3. Prediction"
      ]
    },
    {
      "cell_type": "markdown",
      "metadata": {
        "id": "aFqM_nfISf7b",
        "colab_type": "text"
      },
      "source": [
        "We now load images from the sub-folder `test` that have not been used during training."
      ]
    },
    {
      "cell_type": "code",
      "metadata": {
        "id": "-F1dxPkjSf7c",
        "colab_type": "code",
        "colab": {}
      },
      "source": [
        "fXt = sorted((Path(root)/'data/dsb2018/test/images/').glob('*.tif'))\n",
        "print(f\"{len(fXt)} files found\")\n",
        "Xt = list(map(imread,map(str,tqdm(fXt))))\n",
        "\n",
        "n_channel = 1 if Xt[0].ndim == 2 else Xt[0].shape[-1]\n",
        "axis_norm = (0,1)   # normalize channels independently\n",
        "# axis_norm = (0,1,2) # normalize channels jointly\n",
        "if n_channel > 1:\n",
        "    print(\"Normalizing image channels %s.\" % ('jointly' if axis_norm is None or 2 in axis_norm else 'independently'))"
      ],
      "execution_count": 0,
      "outputs": []
    },
    {
      "cell_type": "code",
      "metadata": {
        "id": "oDYJJXW0Sf7e",
        "colab_type": "code",
        "colab": {}
      },
      "source": [
        "# show all test images\n",
        "if False:\n",
        "    fig, ax = plt.subplots(7,8, figsize=(16,16))\n",
        "    for i,(a,x) in enumerate(zip(ax.flat, X)):\n",
        "        a.imshow(x,cmap='gray')\n",
        "        a.set_title(i)\n",
        "    [a.axis('off') for a in ax.flat]\n",
        "    plt.tight_layout()\n",
        "None;"
      ],
      "execution_count": 0,
      "outputs": []
    },
    {
      "cell_type": "markdown",
      "metadata": {
        "id": "vFuZ6NUlSf7g",
        "colab_type": "text"
      },
      "source": [
        "## Load trained model\n",
        "\n",
        "If you trained your own StarDist model (and optimized its thresholds) before, then please set `demo_model = False` below."
      ]
    },
    {
      "cell_type": "code",
      "metadata": {
        "id": "u70xXaK6Sf7g",
        "colab_type": "code",
        "colab": {}
      },
      "source": [
        "demo_model = True\n",
        "\n",
        "if demo_model:\n",
        "    print (\n",
        "        \"NOTE: This is loading a previously trained demo model!\\n\"\n",
        "        \"      Please set the variable 'demo_model = False' to load your own trained model.\",\n",
        "        file=sys.stderr, flush=True\n",
        "    )\n",
        "    model = StarDist2D(None, name='2D_demo', basedir=Path(root)/'../stardist_code/models/examples')\n",
        "else:\n",
        "    model = StarDist2D(None, name='stardist', basedir='models')\n",
        "None;"
      ],
      "execution_count": 0,
      "outputs": []
    },
    {
      "cell_type": "markdown",
      "metadata": {
        "id": "ZVZvImXHSf7j",
        "colab_type": "text"
      },
      "source": [
        "## Prediction\n",
        "\n",
        "Make sure to normalize the input image beforehand or supply a `normalizer` to the prediction function.\n",
        "\n",
        "Calling `model.predict_instances` will\n",
        "- predict object probabilities and star-convex polygon distances (see `model.predict` if you want those)\n",
        "- perform non-maximum suppression (with overlap threshold `nms_thresh`) for polygons above object probability threshold `prob_thresh`.\n",
        "- render all remaining polygon instances in a label image\n",
        "- return the label instances image and also the details (coordinates, etc.) of all remaining polygons"
      ]
    },
    {
      "cell_type": "code",
      "metadata": {
        "id": "zlC5U0QPSf7k",
        "colab_type": "code",
        "colab": {}
      },
      "source": [
        "img = normalize(Xt[16], 1,99.8, axis=axis_norm)\n",
        "labels, details = model.predict_instances(img)"
      ],
      "execution_count": 0,
      "outputs": []
    },
    {
      "cell_type": "code",
      "metadata": {
        "id": "UsbTTP5bSf7m",
        "colab_type": "code",
        "colab": {}
      },
      "source": [
        "plt.figure(figsize=(8,8))\n",
        "plt.imshow(img if img.ndim==2 else img[...,:3], clim=(0,1), cmap='gray')\n",
        "plt.imshow(labels, cmap=lbl_cmap, alpha=0.5)\n",
        "plt.axis('off');"
      ],
      "execution_count": 0,
      "outputs": []
    },
    {
      "cell_type": "markdown",
      "metadata": {
        "id": "TyLLSfoASf7o",
        "colab_type": "text"
      },
      "source": [
        "## More example results"
      ]
    },
    {
      "cell_type": "code",
      "metadata": {
        "id": "yx35cI3ASf7p",
        "colab_type": "code",
        "colab": {}
      },
      "source": [
        "def example(model, i, show_dist=True):\n",
        "    img = normalize(Xt[i], 1,99.8, axis=axis_norm)\n",
        "    labels, details = model.predict_instances(img)\n",
        "\n",
        "    plt.figure(figsize=(13,10))\n",
        "    img_show = img if img.ndim==2 else img[...,:3]\n",
        "    coord, points, prob = details['coord'], details['points'], details['prob']\n",
        "    plt.subplot(121); plt.imshow(img_show, cmap='gray'); plt.axis('off')\n",
        "    a = plt.axis()\n",
        "    _draw_polygons(coord, points, prob, grid=model.config.grid, show_dist=show_dist)\n",
        "    plt.axis(a)\n",
        "    plt.subplot(122); plt.imshow(img_show, cmap='gray'); plt.axis('off')\n",
        "    plt.imshow(labels, cmap=lbl_cmap, alpha=0.5)\n",
        "    plt.tight_layout()\n",
        "    plt.show()"
      ],
      "execution_count": 0,
      "outputs": []
    },
    {
      "cell_type": "code",
      "metadata": {
        "id": "zuB0Iq-5Sf7q",
        "colab_type": "code",
        "colab": {}
      },
      "source": [
        "example(model, 42)"
      ],
      "execution_count": 0,
      "outputs": []
    },
    {
      "cell_type": "code",
      "metadata": {
        "id": "1saqzu_CSf7s",
        "colab_type": "code",
        "colab": {}
      },
      "source": [
        "example(model, 1)"
      ],
      "execution_count": 0,
      "outputs": []
    },
    {
      "cell_type": "code",
      "metadata": {
        "id": "ftpjFsbuSf7t",
        "colab_type": "code",
        "colab": {}
      },
      "source": [
        "example(model, 15, False)"
      ],
      "execution_count": 0,
      "outputs": []
    },
    {
      "cell_type": "markdown",
      "metadata": {
        "id": "4RO8YeRzSf7u",
        "colab_type": "text"
      },
      "source": [
        "## Demo model"
      ]
    },
    {
      "cell_type": "code",
      "metadata": {
        "id": "hGkaFVQDSf7v",
        "colab_type": "code",
        "colab": {}
      },
      "source": [
        "model_demo = StarDist2D(None, name='2D_demo', basedir=Path(root)/'../stardist_code/models/examples')"
      ],
      "execution_count": 0,
      "outputs": []
    },
    {
      "cell_type": "code",
      "metadata": {
        "id": "40nWlxhdSf7w",
        "colab_type": "code",
        "colab": {}
      },
      "source": [
        "example(model_demo, 29)"
      ],
      "execution_count": 0,
      "outputs": []
    }
  ]
}